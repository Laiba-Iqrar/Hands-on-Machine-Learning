{
 "cells": [
  {
   "cell_type": "markdown",
   "metadata": {},
   "source": [
    "Consider the grades dataset provided in file D2_Grades_Dataset.csv.\n",
    " This dataset contains grades scored by some old batches in CIS Department in NEDUET.\n",
    " The data has been made anonymous by using fictitious values for 'Seat Numbers'.\n",
    " First column contains these fictitious ‘Seat No.’.\n",
    " Next 41 columns show the grades of students in 41 different courses, while last column shows the CGPA.\n",
    " Although the CGPA is calculated from the grades and course credit hours information, but since credit hours are\n",
    "not mentioned here, let us try predicting the CGPA from grades directly, after making the machine learn from this\n",
    "dataset. For now we will just preprocess the dataset; will use the resulting dataset in some training problem later.\n",
    "a. Identify irrelevant attributes and remove them.\n",
    "b. Check for missing values and suggest methods to fix them.\n",
    "c. Which encoding technique would be most suitable to encode grades of the courses? Use it to convert the\n",
    "categorical columns into numeric ones."
   ]
  },
  {
   "cell_type": "code",
   "execution_count": null,
   "metadata": {
    "vscode": {
     "languageId": "plaintext"
    }
   },
   "outputs": [],
   "source": []
  }
 ],
 "metadata": {
  "language_info": {
   "name": "python"
  }
 },
 "nbformat": 4,
 "nbformat_minor": 2
}
