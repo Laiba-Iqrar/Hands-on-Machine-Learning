{
 "cells": [
  {
   "cell_type": "markdown",
   "metadata": {},
   "source": [
    "Download the Iris Dataset from sklearn toy datasets, the way Boston Dataset was downloaded in notebooks N3 and\n",
    "N4 (https://scikit-learn.org/stable/datasets/toy_dataset.html).\n",
    "a. Create a dataframe for this dataset.\n",
    "b. Plot histograms for all the features and target.\n",
    "c. Plot heatmap and identify correlations. Analyze the correlations for signs of multicollinearity.\n",
    "d. Generate pairplot for the dataset.\n",
    "e. Normalize the dataset and store the new normalized dataset in file Normalized_Iris_Dataset.csv."
   ]
  }
 ],
 "metadata": {
  "language_info": {
   "name": "python"
  }
 },
 "nbformat": 4,
 "nbformat_minor": 2
}
