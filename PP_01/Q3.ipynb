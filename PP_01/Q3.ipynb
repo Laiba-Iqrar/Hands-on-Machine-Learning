{
 "cells": [
  {
   "cell_type": "markdown",
   "metadata": {},
   "source": [
    "Consider the imports dataset provided in file D5_Automobile_Dataset.csv.\n",
    " Source: https://www.kaggle.com/toramky/automobile-dataset\n",
    " Refer to this source for description of the dataset.\n",
    "a. Find the size of the dataset.\n",
    "b. List the categorical variables.\n",
    "c. List the continuous variables.\n",
    "d. List the discrete variables.\n",
    "e. Check for missing attributes values and propose a solution.\n",
    "f. Encode all the categorical variables using appropriate encoding techniques."
   ]
  }
 ],
 "metadata": {
  "language_info": {
   "name": "python"
  }
 },
 "nbformat": 4,
 "nbformat_minor": 2
}
