{
 "cells": [
  {
   "cell_type": "markdown",
   "metadata": {},
   "source": [
    "Consider the fish market dataset provided in file D4_Fish_Market_Dataset.csv.\n",
    " Source: https://www.kaggle.com/aungpyaeap/fish-market\n",
    " This dataset lists a total of 8 columns, giving information about 7 species of fish data for market sale.\n",
    " It contains a total of 159 training examples.\n",
    " The description of the columns is as follows:\n",
    " ID: serial number assigned to a fish\n",
    " Species: specie / name of fish\n",
    " Weight: weight of fish in grams (g)\n",
    " Length1: vertical length in centimeter (cm)\n",
    " Length2: diagonal length in centimeter (cm)\n",
    " Length3: cross length in centimeter (cm)\n",
    " Height: height in centimeter (cm)\n",
    " Width: diagonal width in centimeter (cm)\n",
    "a. Check for missing attributes values and propose a solution if any.\n",
    "b. Encode all the categorical variables using appropriate encoding techniques.\n",
    "c. If Weight is the output and remaining 6 columns are features, is it a regression or classification problem?\n",
    "d. If Species is taken as target and remaining columns as features, is it a regression or classification problem?"
   ]
  },
  {
   "cell_type": "code",
   "execution_count": null,
   "metadata": {},
   "outputs": [],
   "source": [
    "import pandas as pd"
   ]
  },
  {
   "cell_type": "code",
   "execution_count": null,
   "metadata": {},
   "outputs": [],
   "source": [
    "d=pd.read_csv('D:\\ML-Hands-On\\Datasets\\D4_Fish_Market_Dataset.csv')\n",
    "d"
   ]
  },
  {
   "cell_type": "code",
   "execution_count": null,
   "metadata": {},
   "outputs": [],
   "source": [
    "d.info()"
   ]
  },
  {
   "cell_type": "markdown",
   "metadata": {},
   "source": [
    "a. There are no missing values in the dataset"
   ]
  },
  {
   "cell_type": "markdown",
   "metadata": {},
   "source": [
    "b. Here , 'Species' is the column having categorical data of 7 inhernet species . as there is no such order f specie the one-hot encoding can be used\n",
    "\n",
    "Species is a nominal (non-ordinal) categorical variable.\n",
    "\n",
    "One-hot encoding avoids introducing artificial ordinality (e.g., \"Bream=1, Parkki=2\" would imply incorrect hierarchy)."
   ]
  },
  {
   "cell_type": "code",
   "execution_count": null,
   "metadata": {},
   "outputs": [],
   "source": [
    "unique_species = d['Species'].unique()\n",
    "unique_species"
   ]
  },
  {
   "cell_type": "code",
   "execution_count": null,
   "metadata": {},
   "outputs": [],
   "source": [
    "d_encode = pd.get_dummies(d, columns=['Species'], drop_first=True)\n",
    "\n",
    "print(d_encode.head())"
   ]
  },
  {
   "cell_type": "code",
   "execution_count": null,
   "metadata": {},
   "outputs": [],
   "source": [
    "d_encode.info()"
   ]
  },
  {
   "cell_type": "code",
   "execution_count": null,
   "metadata": {},
   "outputs": [],
   "source": [
    "d_encode = d_encode.astype(int)\n"
   ]
  },
  {
   "cell_type": "markdown",
   "metadata": {},
   "source": [
    "c. Weight is a continuous numerical variable (e.g., 242.0g, 290.0g). Predicting continuous values is a regression task.\n",
    "\n",
    "d. Species is a categorical variable (e.g., \"Bream\", \"Smelt\"). Predicting discrete classes is a classification task."
   ]
  }
 ],
 "metadata": {
  "kernelspec": {
   "display_name": "Python 3",
   "language": "python",
   "name": "python3"
  },
  "language_info": {
   "codemirror_mode": {
    "name": "ipython",
    "version": 3
   },
   "file_extension": ".py",
   "mimetype": "text/x-python",
   "name": "python",
   "nbconvert_exporter": "python",
   "pygments_lexer": "ipython3",
   "version": "3.13.0"
  }
 },
 "nbformat": 4,
 "nbformat_minor": 2
}
