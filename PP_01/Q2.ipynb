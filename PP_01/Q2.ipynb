{
 "cells": [
  {
   "cell_type": "markdown",
   "metadata": {},
   "source": [
    "Consider the fish market dataset provided in file D4_Fish_Market_Dataset.csv.\n",
    " Source: https://www.kaggle.com/aungpyaeap/fish-market\n",
    " This dataset lists a total of 8 columns, giving information about 7 species of fish data for market sale.\n",
    " It contains a total of 159 training examples.\n",
    " The description of the columns is as follows:\n",
    " ID: serial number assigned to a fish\n",
    " Species: specie / name of fish\n",
    " Weight: weight of fish in grams (g)\n",
    " Length1: vertical length in centimeter (cm)\n",
    " Length2: diagonal length in centimeter (cm)\n",
    " Length3: cross length in centimeter (cm)\n",
    " Height: height in centimeter (cm)\n",
    " Width: diagonal width in centimeter (cm)\n",
    "a. Check for missing attributes values and propose a solution if any.\n",
    "b. Encode all the categorical variables using appropriate encoding techniques.\n",
    "c. If Weight is the output and remaining 6 columns are features, is it a regression or classification problem?\n",
    "d. If Species is taken as target and remaining columns as features, is it a regression or classification problem?"
   ]
  }
 ],
 "metadata": {
  "language_info": {
   "name": "python"
  }
 },
 "nbformat": 4,
 "nbformat_minor": 2
}
