{
 "cells": [
  {
   "cell_type": "markdown",
   "metadata": {},
   "source": [
    "For Problem 3 given in notebook N5_The Gradient Descent Algorithm.ipynb:\n",
    "a. After running the gradient descent algorithm, print the number of iteration and value of cost function at final\n",
    "values of t1_new and t2_new.\n",
    "b. Seeing the values obtained in part a, do you think the algorithm has converged? If not what could be the potential\n",
    "reasons?\n",
    "c. Try the following to fix the issue observed in part b:\n",
    "- Increase the number of iterations appropriately.\n",
    "- Insert a terminating condition in the algorithm’s loop."
   ]
  },
  {
   "cell_type": "code",
   "execution_count": null,
   "metadata": {},
   "outputs": [],
   "source": [
    "import matplotlib.pyplot as plt\n",
    "import numpy as np\n",
    "from math import log"
   ]
  },
  {
   "cell_type": "code",
   "execution_count": null,
   "metadata": {},
   "outputs": [],
   "source": [
    "#Implementing the function f(t1,t2)\n",
    "def f(t1,t2):\n",
    "    return 1/(3**(-t1**2-t2**2)+1)\n",
    "\n",
    "#Making data for t1 and t2\n",
    "t1=np.linspace(-2,2,200)\n",
    "t2=np.linspace(-2,2,200)\n",
    "t1,t2=np.meshgrid(t1,t2) \n",
    "#meshgrid converts t1 and t2 into 2D arrays, as required by the plotting function plot_surface.#Implementing the function f(t1,t2)\n",
    "def f(t1,t2):\n",
    "    return 1/(3**(-t1**2-t2**2)+1)\n",
    "\n",
    "#Making data for t1 and t2\n",
    "t1=np.linspace(-2,2,200)\n",
    "t2=np.linspace(-2,2,200)\n",
    "t1,t2=np.meshgrid(t1,t2) \n",
    "#meshgrid converts t1 and t2 into 2D arrays, as required by the plotting function plot_surface."
   ]
  },
  {
   "cell_type": "code",
   "execution_count": null,
   "metadata": {},
   "outputs": [],
   "source": [
    "#Plotting a 3D graph\n",
    "fig=plt.figure(figsize=[16,12])\n",
    "ax=plt.axes(projection='3d')\n",
    "ax.set_xlabel('t1', fontsize=16)\n",
    "ax.set_ylabel('t2', fontsize=16)\n",
    "ax.set_zlabel('Cost - f(t1,t2)', fontsize=16)\n",
    "ax.plot_surface(t1,t2,f(t1,t2), alpha=0.4, cmap='summer') \n",
    "#Explore other colormaps\n",
    "#Website for color choices: materialpalette.com\n",
    "plt.show()"
   ]
  },
  {
   "cell_type": "code",
   "execution_count": null,
   "metadata": {},
   "outputs": [],
   "source": [
    "#Implementing partial derivatives\n",
    "def pdfx(t1,t2):\n",
    "    return 2*t1*log(3)*(3**(-t1**2-t2**2))/(3**(-t1**2-t2**2)+1)**2\n",
    "def pdfy(t1,t2):\n",
    "    return 2*t2*log(3)*(3**(-t1**2-t2**2))/(3**(-t1**2-t2**2)+1)**2"
   ]
  },
  {
   "cell_type": "code",
   "execution_count": 12,
   "metadata": {},
   "outputs": [
    {
     "name": "stdout",
     "output_type": "stream",
     "text": [
      "Iterations: 20000 \n",
      "Cost fuction: 0.5\n"
     ]
    }
   ],
   "source": [
    "#Custom implementation of gradient descent for two parameters\n",
    "learning_rate = 0.1\n",
    "max_iter = 20000\n",
    "initial_t1 = 1.8\n",
    "initial_t2=1.5\n",
    "precision=0.000001\n",
    "\n",
    "t1_old=initial_t1\n",
    "t2_old=initial_t2\n",
    "\n",
    "t1_list=[]\n",
    "t2_list=[]\n",
    "for i in range (1,max_iter+1):\n",
    "    t1_new = t1_old - learning_rate * pdfx(t1_old,t2_old)\n",
    "    t2_new = t2_old - learning_rate * pdfy(t1_old,t2_old)\n",
    "    \n",
    "    t1_list.append(t1_old)\n",
    "    t2_list.append(t2_old)\n",
    "\n",
    "    t1_old=t1_new\n",
    "    t2_old=t2_new\n",
    "print('Iterations:',i ,'\\nCost fuction:',f(t1_old,t2_old))"
   ]
  },
  {
   "cell_type": "code",
   "execution_count": null,
   "metadata": {},
   "outputs": [],
   "source": []
  }
 ],
 "metadata": {
  "kernelspec": {
   "display_name": "Python 3",
   "language": "python",
   "name": "python3"
  },
  "language_info": {
   "codemirror_mode": {
    "name": "ipython",
    "version": 3
   },
   "file_extension": ".py",
   "mimetype": "text/x-python",
   "name": "python",
   "nbconvert_exporter": "python",
   "pygments_lexer": "ipython3",
   "version": "3.13.0"
  }
 },
 "nbformat": 4,
 "nbformat_minor": 2
}
